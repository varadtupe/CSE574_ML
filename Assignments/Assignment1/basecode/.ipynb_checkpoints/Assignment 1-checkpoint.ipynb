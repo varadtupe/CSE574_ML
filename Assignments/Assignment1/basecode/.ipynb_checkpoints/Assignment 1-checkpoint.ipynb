{
 "cells": [
  {
   "cell_type": "code",
   "execution_count": 1,
   "metadata": {},
   "outputs": [],
   "source": [
    "import numpy as np\n",
    "from scipy.optimize import minimize\n",
    "from scipy.io import loadmat\n",
    "from numpy.linalg import det, inv\n",
    "from math import sqrt, pi\n",
    "import scipy.io\n",
    "import matplotlib.pyplot as plt\n",
    "import pickle\n",
    "import sys"
   ]
  },
  {
   "cell_type": "code",
   "execution_count": 19,
   "metadata": {},
   "outputs": [],
   "source": [
    "def ldaLearn(X,y):\n",
    "    # Inputs\n",
    "    # X - a N x d matrix with each row corresponding to a training example\n",
    "    # y - a N x 1 column vector indicating the labels for each training example\n",
    "    #\n",
    "    # Outputs\n",
    "    # means - A d x k matrix containing learnt means for each of the k classes\n",
    "    # covmat - A single d x d learnt covariance matrix \n",
    "    \n",
    "    # IMPLEMENT THIS METHOD \n",
    "    d = X.shape[1]\n",
    "    y_size = y.size\n",
    "    y_class = y.reshape(y_size)\n",
    "    y_uclass = np.unique(y_class)\n",
    "    y_uclass_size = y_uclass.size\n",
    "    means = np.zeros((d,y_uclass_size))\n",
    "    #print(means)\n",
    "\n",
    "    for i in range(y_uclass_size):\n",
    "        means[:,i] = np.mean(X[y_class == y_uclass[i]],axis=0)\n",
    "\n",
    "    print(\"Means \", means)\n",
    "    covmat = np.cov(X,rowvar=0)\n",
    "    #covmat code if needed\n",
    "    print(\"CovMat \", covmat)\n",
    "\n",
    "    return means,covmat"
   ]
  },
  {
   "cell_type": "code",
   "execution_count": 17,
   "metadata": {},
   "outputs": [],
   "source": [
    "if sys.version_info.major == 2:\n",
    "    X,y,Xtest,ytest = pickle.load(open('sample.pickle','rb'))\n",
    "else:\n",
    "    X,y,Xtest,ytest = pickle.load(open('sample.pickle','rb'),encoding = 'latin1')\n"
   ]
  },
  {
   "cell_type": "code",
   "execution_count": 20,
   "metadata": {},
   "outputs": [
    {
     "name": "stdout",
     "output_type": "stream",
     "text": [
      "Means  [[  2.84353732   6.06321127   4.22278151  11.00791698   9.72829148]\n",
      " [  3.22948323   8.19216551  11.96673625   4.70430105  11.82494404]]\n",
      "CovMat  [[ 10.85927241   1.22704893]\n",
      " [  1.22704893  14.32283255]]\n"
     ]
    }
   ],
   "source": [
    "means,covmat = ldaLearn(X,y)"
   ]
  },
  {
   "cell_type": "code",
   "execution_count": 48,
   "metadata": {},
   "outputs": [],
   "source": [
    "def ldaTest(means,covmats,Xtest,ytest):\n",
    "    # Inputs\n",
    "    # means, covmats - parameters of the QDA model\n",
    "    # Xtest - a N x d matrix with each row corresponding to a test example\n",
    "    # ytest - a N x 1 column vector indicating the labels for each test example\n",
    "    # Outputs\n",
    "    # acc - A scalar accuracy value\n",
    "    # ypred - N x 1 column vector indicating the predicted labels\n",
    "\n",
    "    # IMPLEMENT THIS METHOD\n",
    "\n",
    "\n",
    "    invcovmat = np.linalg.inv(covmats)\n",
    "    print(\"N : \", Xtest.shape[0])\n",
    "    print(\"Class : \", means.shape[1])\n",
    "    y_prob = np.zeros((Xtest.shape[0],means.shape[1]))\n",
    "    n_class = means.shape[1]\n",
    "\n",
    "    for i in range(n_class):\n",
    "        t1 = Xtest - means[:,i]\n",
    "        #print(\"T1 \",t1)\n",
    "        #print(\"invcovmat \",invcovmat)\n",
    "        t2 = np.dot(t1,invcovmat)\n",
    "        t3 = np.sum(t2 * t1,1)\n",
    "        t4 = np.exp(-0.5*t3)\n",
    "\n",
    "        y_prob[:,i] = t4\n",
    "\n",
    "    #print(y_prob)\n",
    "    ypred = np.argmax(y_prob,1) + 1\n",
    "    print(\"ypred \", ypred)\n",
    "\n",
    "    ytest = ytest.reshape(ytest.size)\n",
    "    print(\"ytest \", ytest)\n",
    "    acc = 100 * np.mean(ytest == ypred)\n",
    "\n",
    "    return acc,ypred"
   ]
  },
  {
   "cell_type": "code",
   "execution_count": 49,
   "metadata": {},
   "outputs": [
    {
     "name": "stdout",
     "output_type": "stream",
     "text": [
      "Means  [[  2.84353732   6.06321127   4.22278151  11.00791698   9.72829148]\n",
      " [  3.22948323   8.19216551  11.96673625   4.70430105  11.82494404]]\n",
      "CovMat  [[ 10.85927241   1.22704893]\n",
      " [  1.22704893  14.32283255]]\n",
      "N :  100\n",
      "Class :  5\n",
      "ypred  [2 2 3 4 3 2 5 4 4 4 3 5 2 2 4 1 1 1 5 3 5 1 4 3 5 1 1 2 5 2 5 5 3 5 3 4 2\n",
      " 3 1 2 4 5 1 1 4 4 5 3 5 5 5 4 1 5 4 4 1 3 3 1 1 4 5 3 5 4 2 3 3 3 5 2 2 1\n",
      " 4 4 4 1 1 4 1 3 4 5 3 4 3 3 3 2 5 1 5 2 5 4 4 5 5 1]\n",
      "ytest  [ 2.  2.  3.  4.  3.  5.  5.  4.  4.  4.  3.  5.  2.  2.  4.  1.  1.  1.\n",
      "  5.  3.  5.  1.  4.  3.  5.  1.  1.  2.  5.  2.  5.  5.  3.  5.  3.  4.\n",
      "  2.  3.  1.  2.  4.  5.  1.  1.  4.  4.  5.  3.  5.  5.  5.  4.  1.  5.\n",
      "  4.  4.  1.  3.  3.  1.  1.  4.  5.  3.  5.  4.  4.  3.  3.  3.  5.  2.\n",
      "  2.  1.  4.  4.  4.  1.  1.  4.  1.  3.  4.  5.  3.  4.  3.  3.  3.  3.\n",
      "  5.  1.  5.  2.  5.  4.  4.  5.  5.  1.]\n",
      "LDA Accuracy = 97.0\n"
     ]
    }
   ],
   "source": [
    "if sys.version_info.major == 2:\n",
    "    X,y,Xtest,ytest = pickle.load(open('sample.pickle','rb'))\n",
    "else:\n",
    "    X,y,Xtest,ytest = pickle.load(open('sample.pickle','rb'),encoding = 'latin1')\n",
    "means,covmat = ldaLearn(X,y)\n",
    "ldaacc,ldares = ldaTest(means,covmat,Xtest,ytest)\n",
    "print('LDA Accuracy = '+str(ldaacc))"
   ]
  },
  {
   "cell_type": "code",
   "execution_count": 56,
   "metadata": {},
   "outputs": [],
   "source": [
    "def qdaLearn(X,y):\n",
    "    # Inputs\n",
    "    # X - a N x d matrix with each row corresponding to a training example\n",
    "    # y - a N x 1 column vector indicating the labels for each training example\n",
    "    #\n",
    "    # Outputs\n",
    "    # means - A d x k matrix containing learnt means for each of the k classes\n",
    "    # covmats - A list of k d x d learnt covariance matrices for each of the k classes\n",
    "    \n",
    "    # IMPLEMENT THIS METHOD\n",
    "    d = X.shape[1]\n",
    "    y_size = y.size\n",
    "    y_class = y.reshape(y_size)\n",
    "    y_uclass = np.unique(y_class)\n",
    "    y_uclass_size = y_uclass.size\n",
    "    means = np.zeros((d,y_uclass_size))\n",
    "    covmats = [np.zeros((d,d))]*y_uclass_size\n",
    "\n",
    "    for i in range(y_uclass_size):\n",
    "        means[:,i] = np.mean(X[y_class == y_uclass[i]],axis=0)\n",
    "        covmats[i] = np.cov(X[y_class == y_uclass[i]],rowvar=0)\n",
    "\n",
    "    return means,covmats"
   ]
  },
  {
   "cell_type": "code",
   "execution_count": 57,
   "metadata": {},
   "outputs": [],
   "source": [
    "def qdaTest(means,covmats,Xtest,ytest):\n",
    "    # Inputs\n",
    "    # means, covmats - parameters of the QDA model\n",
    "    # Xtest - a N x d matrix with each row corresponding to a test example\n",
    "    # ytest - a N x 1 column vector indicating the labels for each test example\n",
    "    # Outputs\n",
    "    # acc - A scalar accuracy value\n",
    "    # ypred - N x 1 column vector indicating the predicted labels\n",
    "\n",
    "    # IMPLEMENT THIS METHOD\n",
    "    \n",
    "\n",
    "    print(\"N : \", Xtest.shape[0])\n",
    "    print(\"Class : \", means.shape[1])\n",
    "    y_prob = np.zeros((Xtest.shape[0],means.shape[1]))\n",
    "    n_class = means.shape[1]\n",
    "\n",
    "    for i in range(n_class):\n",
    "        invcovmat = np.linalg.inv(covmats[i])\n",
    "        t1 = Xtest - means[:,i]\n",
    "        #print(\"T1 \",t1)\n",
    "        #print(\"invcovmat \",invcovmat)\n",
    "        t2 = np.dot(t1,invcovmat)\n",
    "        t3 = np.sum(t2 * t1,1)\n",
    "        t4 = np.exp(-0.5*t3)\n",
    "\n",
    "        y_prob[:,i] = t4\n",
    "\n",
    "    #print(y_prob)\n",
    "    ypred = np.argmax(y_prob,1) + 1\n",
    "    print(\"ypred \", ypred)\n",
    "\n",
    "    ytest = ytest.reshape(ytest.size)\n",
    "    print(\"ytest \", ytest)\n",
    "    acc = 100 * np.mean(ytest == ypred)\n",
    "\n",
    "\n",
    "    return acc,ypred"
   ]
  },
  {
   "cell_type": "code",
   "execution_count": 58,
   "metadata": {},
   "outputs": [
    {
     "name": "stdout",
     "output_type": "stream",
     "text": [
      "N :  100\n",
      "Class :  5\n",
      "ypred  [2 2 3 4 3 2 5 4 4 4 3 5 2 2 4 1 1 1 5 3 5 1 4 3 5 1 1 2 5 2 5 5 3 5 3 4 2\n",
      " 3 1 2 4 5 2 1 4 4 5 3 5 5 5 4 1 5 4 4 2 3 3 1 1 4 5 3 5 4 2 3 3 3 5 2 2 1\n",
      " 4 4 4 1 1 4 1 3 4 5 2 4 3 3 3 2 5 1 5 2 5 4 4 5 5 1]\n",
      "ytest  [ 2.  2.  3.  4.  3.  5.  5.  4.  4.  4.  3.  5.  2.  2.  4.  1.  1.  1.\n",
      "  5.  3.  5.  1.  4.  3.  5.  1.  1.  2.  5.  2.  5.  5.  3.  5.  3.  4.\n",
      "  2.  3.  1.  2.  4.  5.  1.  1.  4.  4.  5.  3.  5.  5.  5.  4.  1.  5.\n",
      "  4.  4.  1.  3.  3.  1.  1.  4.  5.  3.  5.  4.  4.  3.  3.  3.  5.  2.\n",
      "  2.  1.  4.  4.  4.  1.  1.  4.  1.  3.  4.  5.  3.  4.  3.  3.  3.  3.\n",
      "  5.  1.  5.  2.  5.  4.  4.  5.  5.  1.]\n",
      "QDA Accuracy = 94.0\n"
     ]
    }
   ],
   "source": [
    "means,covmats = qdaLearn(X,y)\n",
    "qdaacc,qdares = qdaTest(means,covmats,Xtest,ytest)\n",
    "print('QDA Accuracy = '+str(qdaacc))"
   ]
  },
  {
   "cell_type": "code",
   "execution_count": 59,
   "metadata": {},
   "outputs": [],
   "source": []
  },
  {
   "cell_type": "code",
   "execution_count": 61,
   "metadata": {},
   "outputs": [],
   "source": [
    "x1 = np.linspace(-5,20,100)\n",
    "x2 = np.linspace(-5,20,100)\n",
    "xx1,xx2 = np.meshgrid(x1,x2)\n",
    "xx = np.zeros((x1.shape[0]*x2.shape[0],2))\n",
    "xx[:,0] = xx1.ravel()\n",
    "xx[:,1] = xx2.ravel()\n",
    "\n"
   ]
  },
  {
   "cell_type": "code",
   "execution_count": 70,
   "metadata": {},
   "outputs": [
    {
     "name": "stdout",
     "output_type": "stream",
     "text": [
      "N :  10000\n",
      "Class :  5\n",
      "ypred  [1 1 1 ..., 5 5 5]\n",
      "ytest  [ 0.  0.  0. ...,  0.  0.  0.]\n"
     ]
    },
    {
     "data": {
      "text/plain": [
       "Text(0.5,1,'LDA')"
      ]
     },
     "execution_count": 70,
     "metadata": {},
     "output_type": "execute_result"
    },
    {
     "data": {
      "image/png": "[encoded data removed]",
      "text/plain": [
       "<matplotlib.figure.Figure at 0x1143f3710>"
      ]
     },
     "metadata": {},
     "output_type": "display_data"
    }
   ],
   "source": [
    "fig = plt.figure(figsize=[12,6])\n",
    "plt.subplot(1, 2, 1)\n",
    "zacc,zldares = ldaTest(means,covmat,xx,np.zeros((xx.shape[0],1)))\n",
    "plt.contourf(x1,x2,zldares.reshape((x1.shape[0],x2.shape[0])),alpha=0.3)\n",
    "#plt.scatter(Xtest[:,0],Xtest[:,1],c= ytest)\n",
    "plt.title('LDA')\n",
    "\n",
    "\n",
    "\n",
    "\n"
   ]
  },
  {
   "cell_type": "code",
   "execution_count": 74,
   "metadata": {
    "scrolled": false
   },
   "outputs": [
    {
     "name": "stdout",
     "output_type": "stream",
     "text": [
      "Means  [[  2.84353732   6.06321127   4.22278151  11.00791698   9.72829148]\n",
      " [  3.22948323   8.19216551  11.96673625   4.70430105  11.82494404]]\n",
      "CovMat  [[ 10.85927241   1.22704893]\n",
      " [  1.22704893  14.32283255]]\n",
      "N :  100\n",
      "Class :  5\n",
      "ypred  [2 2 3 4 3 2 5 4 4 4 3 5 2 2 4 1 1 1 5 3 5 1 4 3 5 1 1 2 5 2 5 5 3 5 3 4 2\n",
      " 3 1 2 4 5 1 1 4 4 5 3 5 5 5 4 1 5 4 4 1 3 3 1 1 4 5 3 5 4 2 3 3 3 5 2 2 1\n",
      " 4 4 4 1 1 4 1 3 4 5 3 4 3 3 3 2 5 1 5 2 5 4 4 5 5 1]\n",
      "ytest  [ 2.  2.  3.  4.  3.  5.  5.  4.  4.  4.  3.  5.  2.  2.  4.  1.  1.  1.\n",
      "  5.  3.  5.  1.  4.  3.  5.  1.  1.  2.  5.  2.  5.  5.  3.  5.  3.  4.\n",
      "  2.  3.  1.  2.  4.  5.  1.  1.  4.  4.  5.  3.  5.  5.  5.  4.  1.  5.\n",
      "  4.  4.  1.  3.  3.  1.  1.  4.  5.  3.  5.  4.  4.  3.  3.  3.  5.  2.\n",
      "  2.  1.  4.  4.  4.  1.  1.  4.  1.  3.  4.  5.  3.  4.  3.  3.  3.  3.\n",
      "  5.  1.  5.  2.  5.  4.  4.  5.  5.  1.]\n",
      "LDA Accuracy = 97.0\n",
      "N :  100\n",
      "Class :  5\n",
      "ypred  [2 2 3 4 3 2 5 4 4 4 3 5 2 2 4 1 1 1 5 3 5 1 4 3 5 1 1 2 5 2 5 5 3 5 3 4 2\n",
      " 3 1 2 4 5 2 1 4 4 5 3 5 5 5 4 1 5 4 4 2 3 3 1 1 4 5 3 5 4 2 3 3 3 5 2 2 1\n",
      " 4 4 4 1 1 4 1 3 4 5 2 4 3 3 3 2 5 1 5 2 5 4 4 5 5 1]\n",
      "ytest  [ 2.  2.  3.  4.  3.  5.  5.  4.  4.  4.  3.  5.  2.  2.  4.  1.  1.  1.\n",
      "  5.  3.  5.  1.  4.  3.  5.  1.  1.  2.  5.  2.  5.  5.  3.  5.  3.  4.\n",
      "  2.  3.  1.  2.  4.  5.  1.  1.  4.  4.  5.  3.  5.  5.  5.  4.  1.  5.\n",
      "  4.  4.  1.  3.  3.  1.  1.  4.  5.  3.  5.  4.  4.  3.  3.  3.  5.  2.\n",
      "  2.  1.  4.  4.  4.  1.  1.  4.  1.  3.  4.  5.  3.  4.  3.  3.  3.  3.\n",
      "  5.  1.  5.  2.  5.  4.  4.  5.  5.  1.]\n",
      "QDA Accuracy = 94.0\n",
      "N :  10000\n",
      "Class :  5\n",
      "ypred  [1 1 1 ..., 5 5 5]\n",
      "ytest  [ 0.  0.  0. ...,  0.  0.  0.]\n",
      "N :  10000\n",
      "Class :  5\n",
      "ypred  [1 1 1 ..., 5 5 5]\n",
      "ytest  [ 0.  0.  0. ...,  0.  0.  0.]\n"
     ]
    },
    {
     "data": {
      "image/png": "[encoded data removed]",
      "text/plain": [
       "<matplotlib.figure.Figure at 0x114bfa710>"
      ]
     },
     "metadata": {},
     "output_type": "display_data"
    }
   ],
   "source": [
    "# LDA\n",
    "means,covmat = ldaLearn(X,y)\n",
    "ldaacc,ldares = ldaTest(means,covmat,Xtest,ytest)\n",
    "print('LDA Accuracy = '+str(ldaacc))\n",
    "# QDA\n",
    "means,covmats = qdaLearn(X,y)\n",
    "qdaacc,qdares = qdaTest(means,covmats,Xtest,ytest)\n",
    "print('QDA Accuracy = '+str(qdaacc))\n",
    "\n",
    "# plotting boundaries\n",
    "x1 = np.linspace(-5,20,100)\n",
    "x2 = np.linspace(-5,20,100)\n",
    "xx1,xx2 = np.meshgrid(x1,x2)\n",
    "xx = np.zeros((x1.shape[0]*x2.shape[0],2))\n",
    "xx[:,0] = xx1.ravel()\n",
    "xx[:,1] = xx2.ravel()\n",
    "\n",
    "fig = plt.figure(figsize=[12,6])\n",
    "plt.subplot(1, 2, 1)\n",
    "\n",
    "zacc,zldares = ldaTest(means,covmat,xx,np.zeros((xx.shape[0],1)))\n",
    "plt.contourf(x1,x2,zldares.reshape((x1.shape[0],x2.shape[0])),alpha=0.3)\n",
    "#print(ytest)\n",
    "plt.scatter(Xtest[:,0],Xtest[:,1],c=ytest[:,0])\n",
    "plt.title('LDA')\n",
    "\n",
    "\n",
    "plt.subplot(1, 2, 2)\n",
    "\n",
    "zacc,zqdares = qdaTest(means,covmats,xx,np.zeros((xx.shape[0],1)))\n",
    "plt.contourf(x1,x2,zqdares.reshape((x1.shape[0],x2.shape[0])),alpha=0.3)\n",
    "plt.scatter(Xtest[:,0],Xtest[:,1],c=ytest[:,0])\n",
    "plt.title('QDA')\n",
    "\n",
    "plt.show()\n"
   ]
  },
  {
   "cell_type": "code",
   "execution_count": 84,
   "metadata": {},
   "outputs": [],
   "source": [
    "def learnOLERegression(X,y):\n",
    "    # Inputs:                                                         \n",
    "    # X = N x d \n",
    "    # y = N x 1                                                               \n",
    "    # Output: \n",
    "    # w = d x 1 \n",
    "                                                  \n",
    "    d = X.shape[1]\n",
    "    x_trans = np.transpose(X)\n",
    "    w = np.dot(np.linalg.inv(np.dot(x_trans,X)),np.dot(x_trans,y))                                                      \n",
    "\n",
    "    # IMPLEMENT THIS METHOD                                                   \n",
    "    return w"
   ]
  },
  {
   "cell_type": "code",
   "execution_count": 85,
   "metadata": {},
   "outputs": [],
   "source": [
    "def testOLERegression(w,Xtest,ytest):\n",
    "    # Inputs:\n",
    "    # w = d x 1\n",
    "    # Xtest = N x d\n",
    "    # ytest = X x 1\n",
    "    # Output:\n",
    "    # mse\n",
    "\n",
    "    ypred = np.dot(Xtest,w)\n",
    "\n",
    "    t1 = np.subtract(ytest,ypred)\n",
    "    t2 = np.multiply(t1,t1)\n",
    "    t3 = np.sum(t2)\n",
    "    mse = t3/Xtest.shape[0]\n",
    "    # IMPLEMENT THIS METHOD\n",
    "    return mse"
   ]
  },
  {
   "cell_type": "code",
   "execution_count": 91,
   "metadata": {},
   "outputs": [
    {
     "name": "stdout",
     "output_type": "stream",
     "text": [
      "MSE without intercept 106775.361539\n",
      "MSE with intercept 3707.84018117\n"
     ]
    }
   ],
   "source": [
    "# Problem 2\n",
    "if sys.version_info.major == 2:\n",
    "    X,y,Xtest,ytest = pickle.load(open('diabetes.pickle','rb'))\n",
    "else:\n",
    "    X,y,Xtest,ytest = pickle.load(open('diabetes.pickle','rb'),encoding = 'latin1')\n",
    "\n",
    "# add intercept\n",
    "X_i = np.concatenate((np.ones((X.shape[0],1)), X), axis=1)\n",
    "Xtest_i = np.concatenate((np.ones((Xtest.shape[0],1)), Xtest), axis=1)\n",
    "\n",
    "w = learnOLERegression(X,y)\n",
    "mle = testOLERegression(w,Xtest,ytest)\n",
    "\n",
    "w_i = learnOLERegression(X_i,y)\n",
    "mle_i = testOLERegression(w_i,Xtest_i,ytest)\n",
    "\n",
    "print('MSE without intercept '+str(mle))\n",
    "print('MSE with intercept '+str(mle_i))\n"
   ]
  },
  {
   "cell_type": "code",
   "execution_count": 92,
   "metadata": {},
   "outputs": [],
   "source": [
    "def learnRidgeRegression(X,y,lambd):\n",
    "    # Inputs:\n",
    "    # X = N x d                                                               \n",
    "    # y = N x 1 \n",
    "    # lambd = ridge parameter (scalar)\n",
    "    # Output:                                                                  \n",
    "    # w = d x 1\n",
    "\n",
    "\n",
    "    # IMPLEMENT THIS METHOD  \n",
    "    d = X.shape[1]\n",
    "    N = X.shape[0]\n",
    "    x_trans = np.transpose(X)\n",
    "    w = np.dot(np.linalg.inv((np.dot(x_trans,X))+lambd*N*np.identity(d)),np.dot(x_trans,y)) \n",
    "\n",
    "    return w"
   ]
  },
  {
   "cell_type": "code",
   "execution_count": 103,
   "metadata": {},
   "outputs": [
    {
     "name": "stdout",
     "output_type": "stream",
     "text": [
      "2852.88621119\n",
      "0.0003 3\n",
      "[ 3707.84018117] 0.0\n"
     ]
    },
    {
     "data": {
      "image/png": "[encoded data removed]",
      "text/plain": [
       "<matplotlib.figure.Figure at 0x10e6c43c8>"
      ]
     },
     "metadata": {},
     "output_type": "display_data"
    }
   ],
   "source": [
    "# Problem 3\n",
    "k = 1001\n",
    "lambdas = np.linspace(0, .1, num=k)\n",
    "i = 0\n",
    "mses3_train = np.zeros((k,1))\n",
    "mses3 = np.zeros((k,1))\n",
    "for lambd in lambdas:\n",
    "    w_l = learnRidgeRegression(X_i,y,lambd)\n",
    "    mses3_train[i] = testOLERegression(w_l,X_i,y)\n",
    "    mses3[i] = testOLERegression(w_l,Xtest_i,ytest)\n",
    "    i = i + 1\n",
    "fig = plt.figure(figsize=[12,6])\n",
    "plt.subplot(1, 2, 1)\n",
    "plt.plot(lambdas,mses3_train)\n",
    "plt.title('MSE for Train Data')\n",
    "plt.subplot(1, 2, 2)\n",
    "plt.plot(lambdas,mses3)\n",
    "plt.title('MSE for Test Data')\n",
    "print(np.min(mses3))\n",
    "print(lambdas[np.argmin(mses3)],np.argmin(mses3))\n",
    "print(mses3[0],lambdas[0])"
   ]
  },
  {
   "cell_type": "code",
   "execution_count": null,
   "metadata": {},
   "outputs": [],
   "source": []
  }
 ],
 "metadata": {
  "kernelspec": {
   "display_name": "Python 3",
   "language": "python",
   "name": "python3"
  },
  "language_info": {
   "codemirror_mode": {
    "name": "ipython",
    "version": 3
   },
   "file_extension": ".py",
   "mimetype": "text/x-python",
   "name": "python",
   "nbconvert_exporter": "python",
   "pygments_lexer": "ipython3",
   "version": "3.6.4"
  }
 },
 "nbformat": 4,
 "nbformat_minor": 2
}
